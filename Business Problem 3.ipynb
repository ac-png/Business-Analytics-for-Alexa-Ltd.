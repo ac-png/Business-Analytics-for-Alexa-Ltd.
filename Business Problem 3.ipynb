{
 "cells": [
  {
   "cell_type": "code",
   "execution_count": null,
   "metadata": {},
   "outputs": [
    {
     "name": "stderr",
     "output_type": "stream",
     "text": [
      "/var/folders/l1/654hn8x929xgr948720kzdk80000gn/T/ipykernel_47751/3210371667.py:7: DtypeWarning: Columns (2) have mixed types. Specify dtype option on import or set low_memory=False.\n",
      "  df_reviews = pd.read_csv('datasets/bike_reviews.csv')\n"
     ]
    }
   ],
   "source": [
    "import pandas as pd\n",
    "import numpy as np\n",
    "import matplotlib.pyplot as plt\n",
    "import seaborn as sns\n",
    "\n",
    "# Load the CSV file\n",
    "df_reviews = pd.read_csv('datasets/bike_reviews.csv')"
   ]
  },
  {
   "cell_type": "code",
   "execution_count": 31,
   "metadata": {},
   "outputs": [
    {
     "name": "stdout",
     "output_type": "stream",
     "text": [
      "Cleaned data shape: (46, 4)\n"
     ]
    }
   ],
   "source": [
    "# Drop rows with missing values\n",
    "data_cleaned = df_reviews.dropna()\n",
    "\n",
    "# Display the shape of the cleaned data\n",
    "print(f'Cleaned data shape: {data_cleaned.shape}')"
   ]
  },
  {
   "cell_type": "code",
   "execution_count": 32,
   "metadata": {},
   "outputs": [
    {
     "name": "stdout",
     "output_type": "stream",
     "text": [
      "Customer_ID      float64\n",
      "Product_ID       float64\n",
      "Product_Model     object\n",
      "Rating           float64\n",
      "dtype: object\n",
      "Index(['Customer_ID', 'Product_ID', 'Rating'], dtype='object')\n"
     ]
    }
   ],
   "source": [
    "# Review the data types\n",
    "data_types = data_cleaned.dtypes\n",
    "print(data_types)\n",
    "\n",
    "# 'Product_Model' is not needed for analysis\n",
    "data_relevant = data_cleaned.drop(columns=['Product_Model'], errors='ignore')\n",
    "\n",
    "# Display the remaining columns\n",
    "print(data_relevant.columns)"
   ]
  },
  {
   "cell_type": "code",
   "execution_count": 33,
   "metadata": {},
   "outputs": [
    {
     "name": "stdout",
     "output_type": "stream",
     "text": [
      "    Customer_ID  Product_ID  Rating\n",
      "1        1045.0      2100.0     4.0\n",
      "2        1045.0      2101.0     5.0\n",
      "3        1046.0      1101.0     4.0\n",
      "5        1046.0      2102.0     4.0\n",
      "6        1047.0      1102.0     5.0\n",
      "7        1047.0      2100.0     4.0\n",
      "10       3797.0      2100.0     5.0\n",
      "12       3797.0      2102.0     4.0\n",
      "19       3266.0      1100.0     5.0\n",
      "20       3266.0      2100.0     4.0\n",
      "21       3266.0      2101.0     4.0\n",
      "22       1773.0      1104.0     5.0\n",
      "23       1773.0      2102.0     4.0\n",
      "25       7868.0      1102.0     5.0\n",
      "26       7868.0      2100.0     4.0\n",
      "27       7868.0      2104.0     4.0\n",
      "29       3357.0      1100.0     5.0\n",
      "30       3357.0      2100.0     4.0\n",
      "31       3357.0      2101.0     5.0\n",
      "32       1277.0      1105.0     5.0\n",
      "33       1277.0      2100.0     4.0\n",
      "35       8184.0      1101.0     4.0\n",
      "36       8184.0      2104.0     4.0\n",
      "37       8184.0      2101.0     5.0\n",
      "38       3559.0      1103.0     4.0\n",
      "39       3559.0      2100.0     4.0\n",
      "40       3559.0      2101.0     4.0\n",
      "42       7030.0      1104.0     4.0\n",
      "43       7030.0      2100.0     4.0\n"
     ]
    }
   ],
   "source": [
    "similar_users = data_relevant[data_relevant['Rating'] > 3]\n",
    "\n",
    "print(similar_users)"
   ]
  },
  {
   "cell_type": "code",
   "execution_count": null,
   "metadata": {},
   "outputs": [
    {
     "name": "stdout",
     "output_type": "stream",
     "text": [
      "    Product_ID  Liked_Percentage\n",
      "0       1100.0         66.666667\n",
      "1       1101.0        100.000000\n",
      "2       1102.0        100.000000\n",
      "3       1103.0         50.000000\n",
      "4       1104.0         66.666667\n",
      "5       1105.0         50.000000\n",
      "6       2100.0         90.000000\n",
      "7       2101.0         55.555556\n",
      "8       2102.0         60.000000\n",
      "9       2103.0          0.000000\n",
      "10      2104.0         50.000000\n",
      "11      2105.0          0.000000\n"
     ]
    }
   ],
   "source": [
    "# Calculate the percentage of users who rated each product above 3\n",
    "all_users_liked = data_relevant.groupby('Product_ID')['Rating'].apply(lambda x: (x > 3).mean() * 100).reset_index()\n",
    "all_users_liked.columns = ['Product_ID', 'Liked_Percentage']\n",
    "\n",
    "print(all_users_liked)"
   ]
  },
  {
   "cell_type": "code",
   "execution_count": 38,
   "metadata": {},
   "outputs": [
    {
     "name": "stdout",
     "output_type": "stream",
     "text": [
      "    Product_ID  Similar_Users_Count  Liked_Percentage\n",
      "0       1100.0                  2.0         66.666667\n",
      "1       1101.0                  2.0        100.000000\n",
      "2       1102.0                  2.0        100.000000\n",
      "3       1103.0                  1.0         50.000000\n",
      "4       1104.0                  2.0         66.666667\n",
      "5       1105.0                  1.0         50.000000\n",
      "6       2100.0                  9.0         90.000000\n",
      "7       2101.0                  5.0         55.555556\n",
      "8       2102.0                  3.0         60.000000\n",
      "9       2103.0                  0.0          0.000000\n",
      "10      2104.0                  2.0         50.000000\n",
      "11      2105.0                  0.0          0.000000\n"
     ]
    }
   ],
   "source": [
    "# Calculate the count of similar users per Product_ID\n",
    "similar_users_count = similar_users.groupby('Product_ID').size().reset_index(name='Similar_Users_Count')\n",
    "\n",
    "# Merge similar users count with all users liked percentage\n",
    "comparison_df = pd.merge(similar_users_count, all_users_liked, on='Product_ID', how='outer').fillna(0)\n",
    "\n",
    "# Display the comparison dataframe\n",
    "print(comparison_df)"
   ]
  },
  {
   "cell_type": "code",
   "execution_count": 40,
   "metadata": {},
   "outputs": [
    {
     "name": "stdout",
     "output_type": "stream",
     "text": [
      "    Product_ID  Similar_Users_Count  Liked_Percentage  Affinity_Score\n",
      "0       1100.0                  2.0         66.666667        1.333333\n",
      "1       1101.0                  2.0        100.000000        2.000000\n",
      "2       1102.0                  2.0        100.000000        2.000000\n",
      "3       1103.0                  1.0         50.000000        0.500000\n",
      "4       1104.0                  2.0         66.666667        1.333333\n",
      "5       1105.0                  1.0         50.000000        0.500000\n",
      "6       2100.0                  9.0         90.000000        8.100000\n",
      "7       2101.0                  5.0         55.555556        2.777778\n",
      "8       2102.0                  3.0         60.000000        1.800000\n",
      "9       2103.0                  0.0          0.000000        0.000000\n",
      "10      2104.0                  2.0         50.000000        1.000000\n",
      "11      2105.0                  0.0          0.000000        0.000000\n"
     ]
    }
   ],
   "source": [
    "# Affinity Score = Similar_Users_Count * (Liked_Percentage / 100)\n",
    "comparison_df['Affinity_Score'] = comparison_df['Similar_Users_Count'] * (comparison_df['Liked_Percentage'] / 100)\n",
    "\n",
    "print(comparison_df)"
   ]
  },
  {
   "cell_type": "code",
   "execution_count": 43,
   "metadata": {},
   "outputs": [
    {
     "name": "stdout",
     "output_type": "stream",
     "text": [
      "    Product_ID  Similar_Users_Count  Liked_Percentage  Affinity_Score  \\\n",
      "0       1100.0                  2.0         66.666667        1.333333   \n",
      "1       1101.0                  2.0        100.000000        2.000000   \n",
      "2       1102.0                  2.0        100.000000        2.000000   \n",
      "3       1103.0                  1.0         50.000000        0.500000   \n",
      "4       1104.0                  2.0         66.666667        1.333333   \n",
      "5       1105.0                  1.0         50.000000        0.500000   \n",
      "6       2100.0                  9.0         90.000000        8.100000   \n",
      "7       2101.0                  5.0         55.555556        2.777778   \n",
      "8       2102.0                  3.0         60.000000        1.800000   \n",
      "9       2103.0                  0.0          0.000000        0.000000   \n",
      "10      2104.0                  2.0         50.000000        1.000000   \n",
      "11      2105.0                  0.0          0.000000        0.000000   \n",
      "\n",
      "     Product_Model     Category       Price  In_stock  \n",
      "0          Cruiser     Off Road     318.32          1  \n",
      "1      Hybrid Bike       Street   3,093.47          1  \n",
      "2     Folding Bike       Street   4,247.99          0  \n",
      "3    Mountain Bike     Off Road   1,722.01          1  \n",
      "4              BMX     Off Road   3,941.44          0  \n",
      "5    Electric Bike       Street   2,707.40          1  \n",
      "6           U Lock  Accessories      48.00          1  \n",
      "7           Helmet  Accessories      42.00          1  \n",
      "8   Front Mudguard  Accessories      26.00          1  \n",
      "9    Rear Mudguard  Accessories      32.00          1  \n",
      "10     Front Light  Accessories      12.00          1  \n",
      "11      Rear Light  Accessories      14.00          1  \n"
     ]
    }
   ],
   "source": [
    "# Load the CSV file\n",
    "df_catalogue = pd.read_csv('datasets/bike_catalogue.csv')\n",
    "\n",
    "# Merge the comparison dataframe with the catalogue dataframe\n",
    "merged_df = pd.merge(comparison_df, df_catalogue, on='Product_ID', how='left')\n",
    "\n",
    "print(merged_df)"
   ]
  },
  {
   "cell_type": "code",
   "execution_count": 46,
   "metadata": {},
   "outputs": [
    {
     "name": "stdout",
     "output_type": "stream",
     "text": [
      "    Product_ID   Product_Model     Category       Price  Affinity_Score  \\\n",
      "6       2100.0          U Lock  Accessories      48.00         8.100000   \n",
      "7       2101.0          Helmet  Accessories      42.00         2.777778   \n",
      "1       1101.0     Hybrid Bike       Street   3,093.47         2.000000   \n",
      "2       1102.0    Folding Bike       Street   4,247.99         2.000000   \n",
      "8       2102.0  Front Mudguard  Accessories      26.00         1.800000   \n",
      "0       1100.0         Cruiser     Off Road     318.32         1.333333   \n",
      "4       1104.0             BMX     Off Road   3,941.44         1.333333   \n",
      "10      2104.0     Front Light  Accessories      12.00         1.000000   \n",
      "3       1103.0   Mountain Bike     Off Road   1,722.01         0.500000   \n",
      "5       1105.0   Electric Bike       Street   2,707.40         0.500000   \n",
      "9       2103.0   Rear Mudguard  Accessories      32.00         0.000000   \n",
      "11      2105.0      Rear Light  Accessories      14.00         0.000000   \n",
      "\n",
      "    Liked_Percentage  \n",
      "6          90.000000  \n",
      "7          55.555556  \n",
      "1         100.000000  \n",
      "2         100.000000  \n",
      "8          60.000000  \n",
      "0          66.666667  \n",
      "4          66.666667  \n",
      "10         50.000000  \n",
      "3          50.000000  \n",
      "5          50.000000  \n",
      "9           0.000000  \n",
      "11          0.000000  \n"
     ]
    }
   ],
   "source": [
    "# Sort by Affinity Score and Liked Percentage in descending order\n",
    "item_recommendation_list = merged_df.sort_values(by=['Affinity_Score', 'Liked_Percentage'], ascending=False)\n",
    "\n",
    "# Select specific columns for clarity\n",
    "item_recommendation_list = item_recommendation_list[['Product_ID', 'Product_Model', 'Category', 'Price', 'Affinity_Score', 'Liked_Percentage']]\n",
    "\n",
    "print(item_recommendation_list)"
   ]
  },
  {
   "cell_type": "code",
   "execution_count": 53,
   "metadata": {},
   "outputs": [
    {
     "name": "stdout",
     "output_type": "stream",
     "text": [
      "   Product_ID   Product_Model       Price\n",
      "6      2100.0          U Lock      48.00 \n",
      "7      2101.0          Helmet      42.00 \n",
      "1      1101.0     Hybrid Bike   3,093.47 \n",
      "2      1102.0    Folding Bike   4,247.99 \n",
      "8      2102.0  Front Mudguard      26.00 \n"
     ]
    }
   ],
   "source": [
    "highest_recommendation_list = item_recommendation_list[['Product_ID', 'Product_Model', 'Price']].drop_duplicates(subset='Product_ID')\n",
    "\n",
    "print(highest_recommendation_list.head())"
   ]
  },
  {
   "cell_type": "code",
   "execution_count": 52,
   "metadata": {},
   "outputs": [
    {
     "data": {
      "image/png": "[encoded data removed]",
      "text/plain": [
       "<Figure size 1000x600 with 1 Axes>"
      ]
     },
     "metadata": {},
     "output_type": "display_data"
    }
   ],
   "source": [
    "# Plot Affinity Score distribution for each Product\n",
    "plt.figure(figsize=(10, 6))\n",
    "sns.barplot(data=item_recommendation_list, x='Product_ID', y='Affinity_Score', hue='Category')\n",
    "plt.title('Product Recommendation Scores by Category')\n",
    "plt.xlabel('Product ID')\n",
    "plt.ylabel('Affinity Score')\n",
    "plt.legend(title='Category')\n",
    "plt.show()"
   ]
  }
 ],
 "metadata": {
  "kernelspec": {
   "display_name": "base",
   "language": "python",
   "name": "python3"
  },
  "language_info": {
   "codemirror_mode": {
    "name": "ipython",
    "version": 3
   },
   "file_extension": ".py",
   "mimetype": "text/x-python",
   "name": "python",
   "nbconvert_exporter": "python",
   "pygments_lexer": "ipython3",
   "version": "3.12.4"
  }
 },
 "nbformat": 4,
 "nbformat_minor": 2
}
