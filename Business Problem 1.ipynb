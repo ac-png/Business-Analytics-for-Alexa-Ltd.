{
 "cells": [
  {
   "cell_type": "code",
   "execution_count": 11,
   "metadata": {},
   "outputs": [
    {
     "name": "stdout",
     "output_type": "stream",
     "text": [
      "   Sale_ID       Date  Customer_ID     Bike_Model  Category    Price  \\\n",
      "0        1  7/11/2022       9390.0        Cruiser  Off Road   318.32   \n",
      "1        2   5/3/2024       3374.0    Hybrid Bike    Hybrid  3093.47   \n",
      "2        3   9/1/2022       2689.0   Folding Bike      Road  4247.99   \n",
      "3        4  9/28/2022       3797.0  Mountain Bike  Off Road  1722.01   \n",
      "4        5   1/5/2021       1633.0            BMX  Off Road  3941.44   \n",
      "\n",
      "   Quantity Discount Store_Location  Salesperson_ID Payment_Method Channel  \\\n",
      "0       1.0       no   Philadelphia             589      Apple Pay  Online   \n",
      "1       4.0      yes        Chicago             390      Apple Pay  Online   \n",
      "2       3.0      yes    San Antonio             338         PayPal  Online   \n",
      "3       3.0      no     San Antonio             352      Apple Pay  Online   \n",
      "4       3.0      yes   Philadelphia             580         PayPal  Online   \n",
      "\n",
      "   Customer_Age Customer_Gender  \n",
      "0          70.0          Female  \n",
      "1          37.0            Male  \n",
      "2          59.0          Female  \n",
      "3          19.0            Male  \n",
      "4          67.0          Female  \n",
      "<class 'pandas.core.frame.DataFrame'>\n",
      "RangeIndex: 11179 entries, 0 to 11178\n",
      "Data columns (total 14 columns):\n",
      " #   Column           Non-Null Count  Dtype  \n",
      "---  ------           --------------  -----  \n",
      " 0   Sale_ID          11179 non-null  int64  \n",
      " 1   Date             11179 non-null  object \n",
      " 2   Customer_ID      11173 non-null  float64\n",
      " 3   Bike_Model       11179 non-null  object \n",
      " 4   Category         11179 non-null  object \n",
      " 5   Price            11166 non-null  float64\n",
      " 6   Quantity         11174 non-null  float64\n",
      " 7   Discount         11179 non-null  object \n",
      " 8   Store_Location   11179 non-null  object \n",
      " 9   Salesperson_ID   11179 non-null  int64  \n",
      " 10  Payment_Method   11179 non-null  object \n",
      " 11  Channel          11179 non-null  object \n",
      " 12  Customer_Age     11176 non-null  float64\n",
      " 13  Customer_Gender  11176 non-null  object \n",
      "dtypes: float64(4), int64(2), object(8)\n",
      "memory usage: 1.2+ MB\n",
      "None\n"
     ]
    }
   ],
   "source": [
    "import pandas as pd\n",
    "import numpy as np\n",
    "import matplotlib.pyplot as plt\n",
    "import seaborn as sns\n",
    "\n",
    "# Load the dataset\n",
    "df = pd.read_csv('datasets/bike_sales.csv')\n",
    "\n",
    "# Display first few rows and info to understand the dataset\n",
    "print(df.head())\n",
    "print(df.info())"
   ]
  },
  {
   "cell_type": "code",
   "execution_count": 12,
   "metadata": {},
   "outputs": [
    {
     "name": "stdout",
     "output_type": "stream",
     "text": [
      "Sale_ID            0\n",
      "Date               0\n",
      "Customer_ID        0\n",
      "Bike_Model         0\n",
      "Category           0\n",
      "Price              0\n",
      "Quantity           0\n",
      "Discount           0\n",
      "Store_Location     0\n",
      "Salesperson_ID     0\n",
      "Payment_Method     0\n",
      "Channel            0\n",
      "Customer_Age       0\n",
      "Customer_Gender    0\n",
      "dtype: int64\n"
     ]
    }
   ],
   "source": [
    "# Replace missing values with zero\n",
    "df.fillna(0, inplace=True)\n",
    "\n",
    "# Make sure no missing data remains\n",
    "print(df.isnull().sum())"
   ]
  },
  {
   "cell_type": "code",
   "execution_count": 13,
   "metadata": {},
   "outputs": [
    {
     "name": "stdout",
     "output_type": "stream",
     "text": [
      "     Store_Location  Salesperson_ID  Sale Amount\n",
      "237         Chicago             377     87787.15\n",
      "696         Chicago             920     67940.70\n",
      "29          Chicago             131     60550.84\n",
      "1108        Houston             510     65232.05\n",
      "1098        Houston             500     59204.14\n",
      "822         Houston             175     57535.43\n",
      "1619    Los Angeles             244     66884.30\n",
      "1657    Los Angeles             293     66085.02\n",
      "1867    Los Angeles             543     64583.77\n",
      "2774       New York             712     79432.55\n",
      "2493       New York             378     73039.50\n",
      "2513       New York             404     67570.61\n",
      "3436   Philadelphia             623     70522.40\n",
      "3113   Philadelphia             229     65382.22\n",
      "3173   Philadelphia             298     58676.36\n",
      "4255        Phoenix             709     73756.65\n",
      "3764        Phoenix             117     63099.25\n",
      "3963        Phoenix             356     59696.84\n",
      "5166    San Antonio             913     74602.81\n",
      "4738    San Antonio             399     68049.81\n",
      "4754    San Antonio             416     60378.08\n"
     ]
    }
   ],
   "source": [
    "# Create a 'Sale Amount' column as Price * Quantity\n",
    "df['Sale Amount'] = df['Price'] * df['Quantity']\n",
    "\n",
    "# Top 3 Salespeople by Sales Amount for Each City\n",
    "top_salespeople = (\n",
    "    df.groupby(['Store_Location', 'Salesperson_ID'])['Sale Amount']\n",
    "    .sum()\n",
    "    .reset_index()\n",
    "    .sort_values(['Store_Location', 'Sale Amount'], ascending=[True, False])\n",
    "    .groupby('Store_Location')\n",
    "    .head(3)\n",
    ")\n",
    "\n",
    "print(top_salespeople)"
   ]
  },
  {
   "cell_type": "code",
   "execution_count": 14,
   "metadata": {},
   "outputs": [
    {
     "name": "stdout",
     "output_type": "stream",
     "text": [
      "                 sum                                             mean  \\\n",
      "Category    Electric      Hybrid    Off Road        Road     Electric   \n",
      "Channel                                                                 \n",
      "Online    2744108.10  2732296.67  8148464.96  5498309.71  2581.475165   \n",
      "Store     1431290.82  1332927.10  4123623.48  2906972.29  2569.642406   \n",
      "\n",
      "                                                 \n",
      "Category       Hybrid     Off Road         Road  \n",
      "Channel                                          \n",
      "Online    2647.574293  2567.254241  2577.735448  \n",
      "Store     2519.710964  2648.441541  2563.467628  \n"
     ]
    }
   ],
   "source": [
    "# Pivot table for sum and mean of 'Price' by Channel and Category\n",
    "pivot_price = pd.pivot_table(df, values='Price', index='Channel', columns='Category', aggfunc=['sum', 'mean'])\n",
    "print(pivot_price)"
   ]
  },
  {
   "cell_type": "code",
   "execution_count": 15,
   "metadata": {},
   "outputs": [
    {
     "name": "stdout",
     "output_type": "stream",
     "text": [
      "Empty DataFrame\n",
      "Columns: [Sale_ID, Date, Customer_ID, Bike_Model, Category, Price, Quantity, Discount, Store_Location, Salesperson_ID, Payment_Method, Channel, Customer_Age, Customer_Gender, Sale Amount, Year]\n",
      "Index: []\n"
     ]
    }
   ],
   "source": [
    "# Convert 'Date' to datetime if needed and extract year\n",
    "df['Date'] = pd.to_datetime(df['Date'])\n",
    "df['Year'] = df['Date'].dt.year\n",
    "\n",
    "# Filter for cruisers sold in Chicago, over $2000, by salesperson 782 in 2024\n",
    "cruisers_chicago = df[\n",
    "    (df['Category'] == 'Cruiser') &\n",
    "    (df['Store_Location'] == 'Chicago') &\n",
    "    (df['Price'] > 2000.0) &\n",
    "    (df['Salesperson_ID'] == 782) &\n",
    "    (df['Year'] == 2024)\n",
    "]\n",
    "\n",
    "print(cruisers_chicago)"
   ]
  },
  {
   "cell_type": "code",
   "execution_count": 16,
   "metadata": {},
   "outputs": [
    {
     "name": "stdout",
     "output_type": "stream",
     "text": [
      "[412 334 323 302 584 772 562 137 212 815 424 585 357 955 734 437]\n"
     ]
    }
   ],
   "source": [
    "# Filter the dataframe for the required conditions\n",
    "hybrid_sales = df[\n",
    "    (df['Category'] == 'Hybrid') &\n",
    "    (df['Channel'] == 'Store') &\n",
    "    (df['Customer_Age'] >= 50) &\n",
    "    (df['Customer_Age'] <= 60) &\n",
    "    (df['Discount'] == 'yes') &\n",
    "    (df['Year'] == 2023)\n",
    "]\n",
    "\n",
    "# Get the unique salespeople IDs\n",
    "salespeople_hybrid = hybrid_sales['Salesperson_ID'].unique()\n",
    "print(salespeople_hybrid)"
   ]
  },
  {
   "cell_type": "code",
   "execution_count": 17,
   "metadata": {},
   "outputs": [
    {
     "name": "stdout",
     "output_type": "stream",
     "text": [
      "     Salesperson_ID  Commission Amount\n",
      "97              197         11609.6085\n",
      "463             563         11315.7530\n",
      "17              117         10637.2465\n",
      "300             400         10538.7105\n",
      "129             229         10283.9510\n"
     ]
    }
   ],
   "source": [
    "# Define the commission rate (5%)\n",
    "commission_rate = 0.05\n",
    "\n",
    "# Calculate the commission amount for each sale\n",
    "df['Commission Amount'] = df['Quantity'] * df['Price'] * (commission_rate)\n",
    "\n",
    "# Calculate the total commission for each salesperson\n",
    "total_commission = df.groupby('Salesperson_ID')['Commission Amount'].sum().reset_index()\n",
    "\n",
    "# List the top 5 salespeople based on total commission\n",
    "top_5_salespeople_commission = total_commission.sort_values(by='Commission Amount', ascending=False).head(5)\n",
    "\n",
    "print(top_5_salespeople_commission)"
   ]
  },
  {
   "cell_type": "code",
   "execution_count": 28,
   "metadata": {},
   "outputs": [
    {
     "name": "stderr",
     "output_type": "stream",
     "text": [
      "/var/folders/l1/654hn8x929xgr948720kzdk80000gn/T/ipykernel_40893/3368310073.py:6: FutureWarning: \n",
      "\n",
      "The `ci` parameter is deprecated. Use `errorbar=None` for the same effect.\n",
      "\n",
      "  sns.barplot(x='Store_Location', y='Sale Amount', hue='Category', data=df, estimator=sum, ci=None, width=0.5)\n"
     ]
    },
    {
     "data": {
      "image/png": "[encoded data removed]",
      "text/plain": [
       "<Figure size 1200x600 with 1 Axes>"
      ]
     },
     "metadata": {},
     "output_type": "display_data"
    }
   ],
   "source": [
    "# Calculate total Sale Amount by Store Location\n",
    "city_sales = df.groupby('Store_Location')['Sale Amount'].sum().reset_index()\n",
    "\n",
    "# Bar plot of Sale Amount by City and Category\n",
    "plt.figure(figsize=(12, 6))\n",
    "sns.barplot(x='Store_Location', y='Sale Amount', hue='Category', data=df, estimator=sum, ci=None, width=0.5)\n",
    "plt.title('Total Sales Amount by City and Category')\n",
    "plt.ylabel('Total Sales Amount')\n",
    "plt.xlabel('City')\n",
    "plt.xticks(rotation=45)\n",
    "plt.legend(title='Bike Category')\n",
    "plt.tight_layout()\n",
    "plt.show()\n"
   ]
  }
 ],
 "metadata": {
  "kernelspec": {
   "display_name": "base",
   "language": "python",
   "name": "python3"
  },
  "language_info": {
   "codemirror_mode": {
    "name": "ipython",
    "version": 3
   },
   "file_extension": ".py",
   "mimetype": "text/x-python",
   "name": "python",
   "nbconvert_exporter": "python",
   "pygments_lexer": "ipython3",
   "version": "3.12.4"
  }
 },
 "nbformat": 4,
 "nbformat_minor": 2
}
